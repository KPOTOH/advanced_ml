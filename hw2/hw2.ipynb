{
 "cells": [
  {
   "cell_type": "markdown",
   "id": "grand-johnston",
   "metadata": {},
   "source": [
    "## 1. Прочитайте и проанализируйте данные, выберите турниры, в которых есть данные о составах команд и повопросных результатах (поле mask в results.pkl). Для унификации предлагаю:\n",
    "- взять в тренировочный набор турниры с dateStart из 2019 года; \n",
    "- в тестовый — турниры с dateStart из 2020 года.\n"
   ]
  },
  {
   "cell_type": "code",
   "execution_count": null,
   "id": "settled-mechanics",
   "metadata": {
    "ExecuteTime": {
     "end_time": "2021-04-05T21:38:05.641379Z",
     "start_time": "2021-04-05T21:38:04.297960Z"
    },
    "tags": []
   },
   "outputs": [],
   "source": [
    "import os\n",
    "import json\n",
    "import pickle\n",
    "\n",
    "import numpy as np\n",
    "import pandas as pd\n",
    "import scipy\n",
    "from scipy.stats import kendalltau, spearmanr\n",
    "import tqdm\n",
    "\n",
    "from sklearn.preprocessing import OneHotEncoder\n",
    "from sklearn.linear_model import LogisticRegression\n",
    "\n",
    "PLAYERS_PATH = \"./data/players.pkl\"\n",
    "RESULTS_PATH = \"./data/results.pkl\"\n",
    "TOURNAMENTS_PATH = \"./data/tournaments.pkl\"\n",
    "RESULTS_TRAIN_PATH = \"./data/results_train.pkl\"\n",
    "RESULTS_TEST_PATH = \"./data/results_test.pkl\"\n",
    "DATASET_TRAIN_PATH = \"./data/commands_dataset_train.csv\"\n",
    "DATASET_TEST_PATH = \"./data/commands_dataset_test.csv\"\n",
    "\n",
    "# read data\n",
    "data_players = pd.DataFrame(pd.read_pickle(PLAYERS_PATH).values())\n",
    "data_tours = pd.DataFrame(pd.read_pickle(TOURNAMENTS_PATH).values())\n",
    "\n",
    "# tournaments train-test splitting\n",
    "data_tours[\"dateStart\"] = pd.to_datetime(data_tours.dateStart)\n",
    "data_tours_train = data_tours[data_tours.dateStart.apply(lambda x: x.year) == 2019]\n",
    "data_tours_test = data_tours[data_tours.dateStart.apply(lambda x: x.year) == 2020]"
   ]
  },
  {
   "cell_type": "markdown",
   "id": "general-savage",
   "metadata": {},
   "source": [
    "Возьмем данные игр. Оставим только те, в которых для **каждой** команды известна маска ответов. Таким образом отфильтруется несколько игр, но пока что оставим это, ведь там какая-то грязь в данных, неохота вникать"
   ]
  },
  {
   "cell_type": "code",
   "execution_count": 2,
   "id": "practical-composition",
   "metadata": {
    "ExecuteTime": {
     "end_time": "2021-04-05T21:38:06.618117Z",
     "start_time": "2021-04-05T21:38:06.598449Z"
    }
   },
   "outputs": [],
   "source": [
    "def is_valid_game(game):\n",
    "    cond = (\n",
    "        bool(game) and  # is not empty list\n",
    "        all(['mask' in x.keys() for x in game]) and  # 'mask' attribute exist\n",
    "        all([x['mask'] for x in game]) and  # all masks are valid\n",
    "        len(set([len(x['mask']) for x in game])) == 1 and  # all masks lenghts are equal\n",
    "        all([not bool(set(x['mask']).difference('10X')) \n",
    "             for x in game])  # all masks have only {1,0,X}    \n",
    "    )\n",
    "    return cond\n",
    "\n",
    "\n",
    "def select_valid_games(data_tours_train, data_tours_test, first_data_reading=False):\n",
    "    \"\"\"\n",
    "    select games with valid 'mask' attribute, it means that \n",
    "    'mask' exist for each command\n",
    "    \n",
    "    \"\"\"\n",
    "    if not os.path.exists(RESULTS_TRAIN_PATH) and not os.path.exists(RESULTS_TEST_PATH):\n",
    "        first_data_reading = True\n",
    "    \n",
    "    if first_data_reading:\n",
    "        data_result = pd.read_pickle(RESULTS_PATH)\n",
    "        assert len(data_result) == len(data_tours)\n",
    "        \n",
    "        data_tours_train_test = [data_tours_train, data_tours_test]\n",
    "        data_result_train_test = [[], []]\n",
    "        \n",
    "        for data_part in range(2):\n",
    "            for game_id, game_type in data_tours_train_test[data_part][['id', 'type']].values:\n",
    "                cur = data_result[game_id]\n",
    "                if is_valid_game(cur):\n",
    "                    for com in cur:\n",
    "                        com['mask'] = com['mask'].replace('X', '')\n",
    "                        com['game_type'] = game_type['id']\n",
    "                        com['game_id'] = game_id\n",
    "                    data_result_train_test[data_part].append(cur)\n",
    "                    \n",
    "        # check\n",
    "        for _data in data_result_train_test:\n",
    "            for x in _data:\n",
    "                for y in x:\n",
    "                    assert bool(y['mask']), repr(y)\n",
    "                    \n",
    "        data_result_train, data_result_test = data_result_train_test\n",
    "\n",
    "        with open(RESULTS_TRAIN_PATH, 'wb') as fout:\n",
    "            pickle.dump(data_result_train, fout)\n",
    "\n",
    "        with open(RESULTS_TEST_PATH, 'wb') as fout:\n",
    "            pickle.dump(data_result_test, fout)\n",
    "\n",
    "    else:\n",
    "        # load previously saved sub-datasets\n",
    "        with open(RESULTS_TRAIN_PATH, 'rb') as fin:\n",
    "            data_result_train = pickle.load(fin)\n",
    "\n",
    "        with open(RESULTS_TEST_PATH, 'rb') as fin:\n",
    "            data_result_test = pickle.load(fin)\n",
    "            \n",
    "    return data_result_train, data_result_test"
   ]
  },
  {
   "cell_type": "markdown",
   "id": "moral-partner",
   "metadata": {},
   "source": [
    "## 2. Постройте baseline-модель на основе линейной или логистической регрессии, которая будет обучать рейтинг-лист игроков. Замечания и подсказки:\n",
    "\n",
    "- повопросные результаты — это фактически результаты броска монетки, и их предсказание скорее всего имеет отношение к бинарной классификации;\n",
    "- в разных турнирах вопросы совсем разного уровня сложности, поэтому модель должна это учитывать; скорее всего, модель должна будет явно обучать не только силу каждого игрока, но и сложность каждого вопроса;\n",
    "- для baseline-модели можно забыть о командах и считать, что повопросные результаты команды просто относятся к каждому из её игроков.\n"
   ]
  },
  {
   "cell_type": "code",
   "execution_count": 3,
   "id": "neutral-variance",
   "metadata": {
    "ExecuteTime": {
     "end_time": "2021-04-05T21:38:20.773285Z",
     "start_time": "2021-04-05T21:38:20.764814Z"
    }
   },
   "outputs": [],
   "source": [
    "def split_data_by_que(data_result, test=False):\n",
    "    \"\"\" Build by-question results for players independently \"\"\"\n",
    "    data = []\n",
    "    prev_qid = 0\n",
    "\n",
    "    for game in tqdm.tqdm(data_result):\n",
    "        game_type = game[0]['game_type']\n",
    "        game_id = game[0]['game_id']\n",
    "\n",
    "        for team in game:\n",
    "            # drop 'X'-answers\n",
    "            mask = team['mask'].replace('X', '')\n",
    "            # and replace '?'-answers by None\n",
    "            mask = [int(x) if x in '10' else None for x in mask]\n",
    "            team_id = team['team']['id']\n",
    "            players = [x['player']['id'] for x in team['teamMembers']]\n",
    "            for player_id in players:\n",
    "                for qid_in_game, answer in enumerate(mask):\n",
    "                    if answer is None:\n",
    "                        continue\n",
    "                    question_id = prev_qid + qid_in_game\n",
    "\n",
    "                    data.append([\n",
    "                        game_id,\n",
    "                        game_type,\n",
    "                        team_id,\n",
    "                        player_id,\n",
    "                        question_id,\n",
    "                        qid_in_game,\n",
    "                        answer,\n",
    "                    ])\n",
    "\n",
    "        prev_qid += len(mask)\n",
    "\n",
    "    cols = ['game_id', 'game_type', 'team_id', 'player_id', \n",
    "            'question_id', 'qid_in_game', 'answer']\n",
    "    data = pd.DataFrame(data, columns=cols)   \n",
    "    return data"
   ]
  },
  {
   "cell_type": "code",
   "execution_count": 4,
   "id": "reliable-salon",
   "metadata": {
    "ExecuteTime": {
     "end_time": "2021-04-05T21:38:24.966924Z",
     "start_time": "2021-04-05T21:38:21.640850Z"
    }
   },
   "outputs": [],
   "source": [
    "data_result_train, data_result_test = select_valid_games(\n",
    "    data_tours_train, data_tours_test)"
   ]
  },
  {
   "cell_type": "code",
   "execution_count": 5,
   "id": "royal-kruger",
   "metadata": {
    "ExecuteTime": {
     "end_time": "2021-04-05T21:39:17.728734Z",
     "start_time": "2021-04-05T21:38:24.969660Z"
    }
   },
   "outputs": [
    {
     "name": "stderr",
     "output_type": "stream",
     "text": [
      "100%|██████████| 649/649 [00:15<00:00, 42.35it/s] \n"
     ]
    },
    {
     "name": "stdout",
     "output_type": "stream",
     "text": [
      "(15692612, 7)\n"
     ]
    },
    {
     "data": {
      "text/html": [
       "<div>\n",
       "<style scoped>\n",
       "    .dataframe tbody tr th:only-of-type {\n",
       "        vertical-align: middle;\n",
       "    }\n",
       "\n",
       "    .dataframe tbody tr th {\n",
       "        vertical-align: top;\n",
       "    }\n",
       "\n",
       "    .dataframe thead th {\n",
       "        text-align: right;\n",
       "    }\n",
       "</style>\n",
       "<table border=\"1\" class=\"dataframe\">\n",
       "  <thead>\n",
       "    <tr style=\"text-align: right;\">\n",
       "      <th></th>\n",
       "      <th>game_id</th>\n",
       "      <th>game_type</th>\n",
       "      <th>team_id</th>\n",
       "      <th>player_id</th>\n",
       "      <th>question_id</th>\n",
       "      <th>qid_in_game</th>\n",
       "      <th>answer</th>\n",
       "    </tr>\n",
       "  </thead>\n",
       "  <tbody>\n",
       "    <tr>\n",
       "      <th>0</th>\n",
       "      <td>4772</td>\n",
       "      <td>3</td>\n",
       "      <td>45556</td>\n",
       "      <td>6212</td>\n",
       "      <td>0</td>\n",
       "      <td>0</td>\n",
       "      <td>1</td>\n",
       "    </tr>\n",
       "    <tr>\n",
       "      <th>1</th>\n",
       "      <td>4772</td>\n",
       "      <td>3</td>\n",
       "      <td>45556</td>\n",
       "      <td>6212</td>\n",
       "      <td>1</td>\n",
       "      <td>1</td>\n",
       "      <td>1</td>\n",
       "    </tr>\n",
       "  </tbody>\n",
       "</table>\n",
       "</div>"
      ],
      "text/plain": [
       "   game_id  game_type  team_id  player_id  question_id  qid_in_game  answer\n",
       "0     4772          3    45556       6212            0            0       1\n",
       "1     4772          3    45556       6212            1            1       1"
      ]
     },
     "execution_count": 5,
     "metadata": {},
     "output_type": "execute_result"
    }
   ],
   "source": [
    "train_data = split_data_by_que(data_result_train)\n",
    "\n",
    "print(train_data.shape)\n",
    "train_data.head(2)"
   ]
  },
  {
   "cell_type": "code",
   "execution_count": null,
   "id": "following-nature",
   "metadata": {
    "ExecuteTime": {
     "end_time": "2021-04-05T21:50:53.826549Z",
     "start_time": "2021-04-05T21:50:48.440941Z"
    },
    "tags": []
   },
   "outputs": [],
   "source": [
    "ohe = OneHotEncoder(dtype=np.int8, handle_unknown='ignore')\n",
    "X_train = ohe.fit_transform(train_data[['player_id', 'question_id']])\n",
    "y_train = train_data.answer.values.astype(np.int8)"
   ]
  },
  {
   "cell_type": "code",
   "execution_count": 7,
   "id": "rational-apache",
   "metadata": {},
   "outputs": [
    {
     "name": "stdout",
     "output_type": "stream",
     "text": [
      "(15692612, 86026) (15692612,)\n"
     ]
    }
   ],
   "source": [
    "print(X_train.shape, y_train.shape)"
   ]
  },
  {
   "cell_type": "code",
   "execution_count": null,
   "id": "acting-malpractice",
   "metadata": {
    "ExecuteTime": {
     "end_time": "2021-04-05T21:52:14.252264Z",
     "start_time": "2021-04-05T21:50:56.201085Z"
    }
   },
   "outputs": [],
   "source": [
    "logreg = LogisticRegression(random_state=22799)\n",
    "logreg.fit(X_train, y_train)"
   ]
  },
  {
   "cell_type": "markdown",
   "id": "increasing-thought",
   "metadata": {},
   "source": [
    "Только что мы научили логрег предсказывать \"правильной ответ\" на основе силы игрока и сложности вопроса.\n",
    "\n",
    "Поглядим на силу лучших игроков, поищем знакомые имена"
   ]
  },
  {
   "cell_type": "code",
   "execution_count": null,
   "id": "egyptian-footage",
   "metadata": {
    "ExecuteTime": {
     "end_time": "2021-04-05T21:52:18.829266Z",
     "start_time": "2021-04-05T21:52:18.557814Z"
    }
   },
   "outputs": [],
   "source": [
    "feature_names = ohe.get_feature_names(['player_id', 'question_id'])\n",
    "\n",
    "baseline_importance = pd.DataFrame({\n",
    "    'feature': feature_names,\n",
    "    'value': logreg.coef_[0],\n",
    "})\n",
    "player_power = baseline_importance[\n",
    "    baseline_importance.feature.str.startswith('player')]\n",
    "\n",
    "_f = lambda s: int(s.split('_')[-1])\n",
    "player_power['player_id'] = player_power.feature.apply(_f)\n",
    "\n",
    "player_power = pd.merge(\n",
    "    player_power, data_players, \n",
    "    left_on='player_id', right_on='id'\n",
    ")\n",
    "player_power = player_power.sort_values('value', ascending=False)"
   ]
  },
  {
   "cell_type": "code",
   "execution_count": 10,
   "id": "conscious-pastor",
   "metadata": {
    "ExecuteTime": {
     "end_time": "2021-04-05T21:52:19.935547Z",
     "start_time": "2021-04-05T21:52:19.917438Z"
    }
   },
   "outputs": [
    {
     "data": {
      "text/html": [
       "<div>\n",
       "<style scoped>\n",
       "    .dataframe tbody tr th:only-of-type {\n",
       "        vertical-align: middle;\n",
       "    }\n",
       "\n",
       "    .dataframe tbody tr th {\n",
       "        vertical-align: top;\n",
       "    }\n",
       "\n",
       "    .dataframe thead th {\n",
       "        text-align: right;\n",
       "    }\n",
       "</style>\n",
       "<table border=\"1\" class=\"dataframe\">\n",
       "  <thead>\n",
       "    <tr style=\"text-align: right;\">\n",
       "      <th></th>\n",
       "      <th>id</th>\n",
       "      <th>name</th>\n",
       "      <th>patronymic</th>\n",
       "      <th>surname</th>\n",
       "      <th>value</th>\n",
       "    </tr>\n",
       "  </thead>\n",
       "  <tbody>\n",
       "    <tr>\n",
       "      <th>3830</th>\n",
       "      <td>27403</td>\n",
       "      <td>Максим</td>\n",
       "      <td>Михайлович</td>\n",
       "      <td>Руссо</td>\n",
       "      <td>4.160863</td>\n",
       "    </tr>\n",
       "    <tr>\n",
       "      <th>601</th>\n",
       "      <td>4270</td>\n",
       "      <td>Александра</td>\n",
       "      <td>Владимировна</td>\n",
       "      <td>Брутер</td>\n",
       "      <td>4.030017</td>\n",
       "    </tr>\n",
       "    <tr>\n",
       "      <th>4019</th>\n",
       "      <td>28751</td>\n",
       "      <td>Иван</td>\n",
       "      <td>Николаевич</td>\n",
       "      <td>Семушин</td>\n",
       "      <td>3.979427</td>\n",
       "    </tr>\n",
       "    <tr>\n",
       "      <th>3902</th>\n",
       "      <td>27822</td>\n",
       "      <td>Михаил</td>\n",
       "      <td>Владимирович</td>\n",
       "      <td>Савченков</td>\n",
       "      <td>3.893555</td>\n",
       "    </tr>\n",
       "    <tr>\n",
       "      <th>4205</th>\n",
       "      <td>30152</td>\n",
       "      <td>Артём</td>\n",
       "      <td>Сергеевич</td>\n",
       "      <td>Сорожкин</td>\n",
       "      <td>3.811722</td>\n",
       "    </tr>\n",
       "    <tr>\n",
       "      <th>4225</th>\n",
       "      <td>30270</td>\n",
       "      <td>Сергей</td>\n",
       "      <td>Леонидович</td>\n",
       "      <td>Спешков</td>\n",
       "      <td>3.811201</td>\n",
       "    </tr>\n",
       "    <tr>\n",
       "      <th>2907</th>\n",
       "      <td>20691</td>\n",
       "      <td>Станислав</td>\n",
       "      <td>Григорьевич</td>\n",
       "      <td>Мереминский</td>\n",
       "      <td>3.686195</td>\n",
       "    </tr>\n",
       "    <tr>\n",
       "      <th>2552</th>\n",
       "      <td>18036</td>\n",
       "      <td>Михаил</td>\n",
       "      <td>Ильич</td>\n",
       "      <td>Левандовский</td>\n",
       "      <td>3.638140</td>\n",
       "    </tr>\n",
       "    <tr>\n",
       "      <th>3200</th>\n",
       "      <td>22799</td>\n",
       "      <td>Сергей</td>\n",
       "      <td>Игоревич</td>\n",
       "      <td>Николенко</td>\n",
       "      <td>3.561250</td>\n",
       "    </tr>\n",
       "    <tr>\n",
       "      <th>3650</th>\n",
       "      <td>26089</td>\n",
       "      <td>Ирина</td>\n",
       "      <td>Сергеевна</td>\n",
       "      <td>Прокофьева</td>\n",
       "      <td>3.556243</td>\n",
       "    </tr>\n",
       "    <tr>\n",
       "      <th>3216</th>\n",
       "      <td>22935</td>\n",
       "      <td>Илья</td>\n",
       "      <td>Сергеевич</td>\n",
       "      <td>Новиков</td>\n",
       "      <td>3.549227</td>\n",
       "    </tr>\n",
       "    <tr>\n",
       "      <th>2593</th>\n",
       "      <td>18332</td>\n",
       "      <td>Александр</td>\n",
       "      <td>Витальевич</td>\n",
       "      <td>Либер</td>\n",
       "      <td>3.530036</td>\n",
       "    </tr>\n",
       "    <tr>\n",
       "      <th>9253</th>\n",
       "      <td>87637</td>\n",
       "      <td>Антон</td>\n",
       "      <td>Владимирович</td>\n",
       "      <td>Саксонов</td>\n",
       "      <td>3.513856</td>\n",
       "    </tr>\n",
       "    <tr>\n",
       "      <th>4756</th>\n",
       "      <td>34328</td>\n",
       "      <td>Михаил</td>\n",
       "      <td>Сергеевич</td>\n",
       "      <td>Царёв</td>\n",
       "      <td>3.512226</td>\n",
       "    </tr>\n",
       "    <tr>\n",
       "      <th>1902</th>\n",
       "      <td>13689</td>\n",
       "      <td>Дмитрий</td>\n",
       "      <td>Александрович</td>\n",
       "      <td>Карякин</td>\n",
       "      <td>3.510015</td>\n",
       "    </tr>\n",
       "    <tr>\n",
       "      <th>3050</th>\n",
       "      <td>21698</td>\n",
       "      <td>Александр</td>\n",
       "      <td>Владимирович</td>\n",
       "      <td>Мосягин</td>\n",
       "      <td>3.503925</td>\n",
       "    </tr>\n",
       "    <tr>\n",
       "      <th>8102</th>\n",
       "      <td>74001</td>\n",
       "      <td>Игорь</td>\n",
       "      <td>Викторович</td>\n",
       "      <td>Мокин</td>\n",
       "      <td>3.497089</td>\n",
       "    </tr>\n",
       "    <tr>\n",
       "      <th>2802</th>\n",
       "      <td>19915</td>\n",
       "      <td>Александр</td>\n",
       "      <td>Валерьевич</td>\n",
       "      <td>Марков</td>\n",
       "      <td>3.490777</td>\n",
       "    </tr>\n",
       "    <tr>\n",
       "      <th>981</th>\n",
       "      <td>7008</td>\n",
       "      <td>Алексей</td>\n",
       "      <td>Владимирович</td>\n",
       "      <td>Гилёв</td>\n",
       "      <td>3.490045</td>\n",
       "    </tr>\n",
       "    <tr>\n",
       "      <th>3017</th>\n",
       "      <td>21487</td>\n",
       "      <td>Борис</td>\n",
       "      <td>Яковлевич</td>\n",
       "      <td>Моносов</td>\n",
       "      <td>3.485618</td>\n",
       "    </tr>\n",
       "  </tbody>\n",
       "</table>\n",
       "</div>"
      ],
      "text/plain": [
       "         id        name     patronymic       surname     value\n",
       "3830  27403      Максим     Михайлович         Руссо  4.160863\n",
       "601    4270  Александра   Владимировна        Брутер  4.030017\n",
       "4019  28751        Иван     Николаевич       Семушин  3.979427\n",
       "3902  27822      Михаил   Владимирович     Савченков  3.893555\n",
       "4205  30152       Артём      Сергеевич      Сорожкин  3.811722\n",
       "4225  30270      Сергей     Леонидович       Спешков  3.811201\n",
       "2907  20691   Станислав    Григорьевич   Мереминский  3.686195\n",
       "2552  18036      Михаил          Ильич  Левандовский  3.638140\n",
       "3200  22799      Сергей       Игоревич     Николенко  3.561250\n",
       "3650  26089       Ирина      Сергеевна    Прокофьева  3.556243\n",
       "3216  22935        Илья      Сергеевич       Новиков  3.549227\n",
       "2593  18332   Александр     Витальевич         Либер  3.530036\n",
       "9253  87637       Антон   Владимирович      Саксонов  3.513856\n",
       "4756  34328      Михаил      Сергеевич         Царёв  3.512226\n",
       "1902  13689     Дмитрий  Александрович       Карякин  3.510015\n",
       "3050  21698   Александр   Владимирович       Мосягин  3.503925\n",
       "8102  74001       Игорь     Викторович         Мокин  3.497089\n",
       "2802  19915   Александр     Валерьевич        Марков  3.490777\n",
       "981    7008     Алексей   Владимирович         Гилёв  3.490045\n",
       "3017  21487       Борис      Яковлевич       Моносов  3.485618"
      ]
     },
     "execution_count": 10,
     "metadata": {},
     "output_type": "execute_result"
    }
   ],
   "source": [
    "player_power.iloc[:20, [3,4,5,6,1]]"
   ]
  },
  {
   "cell_type": "markdown",
   "id": "committed-screen",
   "metadata": {},
   "source": [
    "Видим, что в топе **Сергей Николенко**, Александр Либер, Иван Семушин, Сергей Спешков ...\n",
    "\n",
    "Это должно что-то \n",
    "\n",
    "---------------"
   ]
  },
  {
   "cell_type": "markdown",
   "id": "african-senate",
   "metadata": {},
   "source": [
    "## 3. Качество рейтинг-системы оценивается качеством предсказаний результатов турниров. Но сами повопросные результаты наши модели предсказывать вряд ли смогут, ведь неизвестно, насколько сложными окажутся вопросы в будущих турнирах; да и не нужны эти предсказания сами по себе. Поэтому:\n",
    "- предложите способ предсказать результаты нового турнира с известными составами, но неизвестными вопросами, в виде ранжирования команд;\n",
    "- в качестве метрики качества на тестовом наборе давайте считать ранговые корреляции Спирмена и Кендалла (их можно взять в пакете scipy) между реальным ранжированием в результатах турнира и предсказанным моделью, усреднённые по тестовому множеству турниров."
   ]
  },
  {
   "cell_type": "markdown",
   "id": "coordinated-rebecca",
   "metadata": {},
   "source": [
    "- сначала предскажем повопросные вероятности правильных ответов\n",
    "- потом посчитаем предсказанное количество правильных ответов от каждой команды в турнире и отсортируем в поисках ранга\n",
    "\n",
    "\n",
    "- команда делает правильный ответ, если хотя бы 1 ее член правильно отвечает:\n",
    "    \n",
    "    $P_{command}(ans = 1) = 1 - \\prod_{i \\in players} (1 - P_i(ans = 1)) $\n",
    "    \n",
    "- а предсказанное количество верных можно найти, умножив данную вероятность на кол-во вопросов в турнире (но это не нужно):\n",
    "\n",
    "    $E(numofcorrectans) = P_{command}(ans = 1) * N $\n",
    "- предсказывать ранги команд можно по командной вероятности ответить на вопрос (для всех вопросов в игре она одинакова) "
   ]
  },
  {
   "cell_type": "code",
   "execution_count": 11,
   "id": "powered-oriental",
   "metadata": {},
   "outputs": [],
   "source": [
    "def prepare_test():\n",
    "    players_train = set(np.unique(train_data['player_id']))\n",
    "    \n",
    "    test = []\n",
    "    for teams in tqdm.tqdm(data_result_test):\n",
    "        tournament_id = teams[0]['game_id']\n",
    "        for team in teams:\n",
    "            team_id = team['team']['id']\n",
    "            mask = list(map(int, team['mask']))\n",
    "            players = [x['player']['id'] for x in team['teamMembers']]\n",
    "            for player_id in players:\n",
    "                # only players from train (Explicitly say that)\n",
    "                if player_id not in players_train: \n",
    "                    continue\n",
    "\n",
    "                # questions have no usefull index, give them -1\n",
    "                test.append((tournament_id, team_id, player_id, \n",
    "                             -1, sum(mask))) \n",
    "\n",
    "    test = np.vstack(test).astype(np.int32)\n",
    "    cols = ['tournament_id', 'team_id', 'player_id', \n",
    "            'question_id', 'n_correct']\n",
    "    test = pd.DataFrame(test, columns = cols)\n",
    "    return test"
   ]
  },
  {
   "cell_type": "code",
   "execution_count": null,
   "id": "shaped-shareware",
   "metadata": {
    "tags": []
   },
   "outputs": [],
   "source": [
    "test_data = prepare_test()\n",
    "X_test = ohe.transform(test_data[['player_id', 'question_id']])\n",
    "\n",
    "assert X_test[:, -train_data.question_id.nunique():].max() == 0, (\n",
    "    'wrong transformation for question features'\n",
    ")\n",
    "y_preds = logreg.predict_proba(X_test)[:, 1]"
   ]
  },
  {
   "cell_type": "code",
   "execution_count": 13,
   "id": "dense-enemy",
   "metadata": {
    "ExecuteTime": {
     "end_time": "2021-04-05T21:57:17.688251Z",
     "start_time": "2021-04-05T21:57:17.674870Z"
    }
   },
   "outputs": [],
   "source": [
    "def compute_scores(data, preds):\n",
    "    data['pred'] = preds\n",
    "    data['score'] = data.groupby(['tournament_id', 'team_id'])['pred']\\\n",
    "                    .transform(lambda x: 1 - np.prod(1 - x))\n",
    "    rating = data[\n",
    "        ['tournament_id', 'team_id', 'n_correct', 'score']\n",
    "    ].drop_duplicates().reset_index(drop=True)\n",
    "    \n",
    "    # True command rating\n",
    "    rating = rating.sort_values(by=['tournament_id', 'n_correct'], \n",
    "                                ascending=False)\n",
    "    rating['real_rank'] = rating.groupby('tournament_id')['n_correct']\\\n",
    "                         .transform(lambda x: np.arange(1, len(x) + 1))\n",
    "    \n",
    "    # Predicted command rating\n",
    "    rating = rating.sort_values(by=['tournament_id', 'score'], \n",
    "                                ascending=False)\n",
    "    rating['pred_rank'] = rating.groupby('tournament_id')['score']\\\n",
    "                         .transform(lambda x: np.arange(1, len(x) + 1))\n",
    "\n",
    "    rating = rating.astype(np.int32)\n",
    "    \n",
    "    score_spearman = rating.groupby('tournament_id').apply(\n",
    "        lambda x: spearmanr(x['real_rank'], x['pred_rank']\n",
    "                           ).correlation).mean()\n",
    "    score_kendall = rating.groupby('tournament_id').apply(\n",
    "        lambda x: kendalltau(x['real_rank'], x['pred_rank']\n",
    "                            ).correlation).mean()\n",
    "    \n",
    "    print(f\"Корреляция Спирмана: {score_spearman: .3f}\")\n",
    "    print(f\"Корреляция Кендалла: {score_kendall: .3f}\")"
   ]
  },
  {
   "cell_type": "code",
   "execution_count": 14,
   "id": "incredible-novel",
   "metadata": {
    "ExecuteTime": {
     "end_time": "2021-04-05T21:57:54.174940Z",
     "start_time": "2021-04-05T21:57:18.141059Z"
    }
   },
   "outputs": [
    {
     "name": "stdout",
     "output_type": "stream",
     "text": [
      "Корреляция Спирмана:  0.806\n",
      "Корреляция Кендалла:  0.635\n"
     ]
    }
   ],
   "source": [
    "compute_scores(test_data, y_preds)"
   ]
  },
  {
   "cell_type": "markdown",
   "id": "active-revelation",
   "metadata": {},
   "source": [
    "Адекватный результат, хотя первично выдавало >0.9   :D\n",
    "\n",
    "-----------"
   ]
  },
  {
   "cell_type": "markdown",
   "id": "brave-internship",
   "metadata": {},
   "source": [
    "## 4. Теперь главное: ЧГК — это всё-таки командная игра. Поэтому:\n",
    "- предложите способ учитывать то, что на вопрос отвечают сразу несколько игроков; скорее всего, понадобятся скрытые переменные; не стесняйтесь делать упрощающие предположения, но теперь переменные “игрок X ответил на вопрос Y” при условии данных должны стать зависимыми для игроков одной и той же команды;\n",
    "- разработайте EM-схему для обучения этой модели, реализуйте её в коде;\n",
    "- обучите несколько итераций, убедитесь, что целевые метрики со временем растут (скорее всего, ненамного, но расти должны), выберите лучшую модель, используя целевые метрики.\n"
   ]
  },
  {
   "cell_type": "markdown",
   "id": "finished-capture",
   "metadata": {},
   "source": [
    "### Схема:\n",
    "Мы знаем, что команда предскажет верно по этой формуле (дублирую ту, что выше):\n",
    "\n",
    "$P_{command}(ans = 1) = 1 - \\prod_{i \\in players} (1 - P_i(ans = 1)) $\n",
    "    \n",
    "Формально, это же и есть сила команды.\n",
    "\n",
    "А вклад игрока - это вероятность правильного ответа игрока, деленая на командную вероятность, отнормированная (clipped), чтобы быть в интервале [0, 1]:\n",
    "\n",
    "$Power_i = clip(\\frac{P_i(ans = 1)}{P_{command}(ans = 1)}) $\n",
    "\n",
    "Т.е. Е-шаг будет представлять модификацию предсказываемого вектора по изложенному механизму, тепеь он будет содержать \"командную\" силу игроков.\n",
    "\n",
    "Хотелось бы использовать логрег из sklearn, но ему нельзя посылать континуальные таргеты..."
   ]
  },
  {
   "cell_type": "code",
   "execution_count": 15,
   "id": "exciting-witch",
   "metadata": {},
   "outputs": [],
   "source": [
    "class EMClassifier:\n",
    "    def __init__(self, w=None, lr=25, n_iter=10, batch_size=10000, verbose=1):\n",
    "        self.w = w\n",
    "        self.lr = lr\n",
    "        self.n_iter = n_iter\n",
    "        self.batch_size = batch_size\n",
    "        self.verbose = verbose\n",
    "        \n",
    "    def _add_intercept(self, X):\n",
    "        \"\"\" add pseuso-feature for intercept \"\"\"\n",
    "        return scipy.sparse.hstack((np.ones((X.shape[0], 1)), X), format='csr')\n",
    "    \n",
    "    def _init_w(self, dim):\n",
    "        self.w = np.random.randn(dim)\n",
    "        \n",
    "    def E_step(self, data, preds):\n",
    "        \"\"\" recalculation of prediction according to team power \"\"\"\n",
    "        team_power = pd.DataFrame({'team_id': data['team_id'],\n",
    "                                  'question_id': data['question_id'], \n",
    "                                  'team_power': 1 - preds})\n",
    "        team_power = team_power.groupby(['team_id', 'question_id'])\\\n",
    "                            .agg({'team_power': 'prod'}).reset_index()\n",
    "        team_power['team_power'] = 1 - team_power['team_power']\n",
    "        team_power = data[['team_id', 'question_id']].merge(team_power)\n",
    "        y = np.clip(preds / team_power['team_power'], 0, 1).values\n",
    "        y[data['answer'] == 0] = 0  # return wrong answers to zeros\n",
    "        return y\n",
    "        \n",
    "    def M_step(self, X, y):\n",
    "        \"\"\" minibatch GD \"\"\"    \n",
    "        min_loss = np.inf\n",
    "        indices = np.arange(X.shape[0])\n",
    "        for _ in range(100):\n",
    "            indices = np.random.permutation(indices)\n",
    "            for batch_idx in np.array_split(indices, len(indices) // self.batch_size):\n",
    "                x_batch, y_batch = X[batch_idx], y[batch_idx]\n",
    "                grad = x_batch.T.dot(self.predict(x_batch) - y_batch) / len(y_batch)\n",
    "                self.w -= self.lr * grad\n",
    "                \n",
    "            cur_loss = self.log_loss(y, self.predict(X))\n",
    "            if min_loss - cur_loss < 1e-6:\n",
    "                break\n",
    "                \n",
    "            min_loss = cur_loss\n",
    "                \n",
    "    def fit(self, X_train, train_data):\n",
    "        X_train = self._add_intercept(X_train)\n",
    "        if self.w is None or len(self.w) != X_train.shape[1]:\n",
    "            self._init_w(X_train.shape[1])\n",
    "        \n",
    "        for _ in tqdm.tqdm(range(self.n_iter)): \n",
    "            preds = self.predict(X_train)\n",
    "            y = self.E_step(train_data, preds)\n",
    "            self.M_step(X_train, y)\n",
    "            \n",
    "            if self.verbose:\n",
    "                compute_scores(train_data, self.predict(X_train))\n",
    "                         \n",
    "    def predict(self, X):\n",
    "        if self.w is None:\n",
    "            raise ValueError('Model is not fitted yet!')\n",
    "        if len(self.w) != X.shape[1]:\n",
    "            X = self._add_intercept(X)\n",
    "        return scipy.special.expit(X.dot(self.w))  # sigmoid\n",
    "\n",
    "    @staticmethod\n",
    "    def log_loss(y_true, y_pred):\n",
    "        return - np.mean(y_true * np.log(y_pred) + (1 - y_true) * np.log(1 - y_pred))"
   ]
  },
  {
   "cell_type": "code",
   "execution_count": 16,
   "id": "alternative-popularity",
   "metadata": {},
   "outputs": [
    {
     "name": "stderr",
     "output_type": "stream",
     "text": [
      "100%|██████████| 10/10 [08:16<00:00, 49.70s/it]\n"
     ]
    }
   ],
   "source": [
    "# initialization by already fitted model\n",
    "w_start = np.hstack([logreg.intercept_, logreg.coef_[0]])\n",
    "em_classifier = EMClassifier(w_start, n_iter=10, verbose=0)\n",
    "\n",
    "em_classifier.fit(X_train, train_data)"
   ]
  },
  {
   "cell_type": "code",
   "execution_count": 18,
   "id": "requested-honor",
   "metadata": {},
   "outputs": [
    {
     "name": "stdout",
     "output_type": "stream",
     "text": [
      "Корреляция Спирмана:  0.811\n",
      "Корреляция Кендалла:  0.642\n"
     ]
    }
   ],
   "source": [
    "y_pred = em_classifier.predict(X_test)\n",
    "compute_scores(test_data, y_pred)"
   ]
  },
  {
   "cell_type": "markdown",
   "id": "allied-mineral",
   "metadata": {},
   "source": [
    "Вот. Даже за 10 эпох качество слегка улучшилось"
   ]
  },
  {
   "cell_type": "markdown",
   "id": "residential-puppy",
   "metadata": {},
   "source": [
    "## 5. А что там с вопросами?\n",
    "- Постройте “рейтинг-лист” турниров по сложности вопросов. Соответствует ли он интуиции (например, на чемпионате мира в целом должны быть сложные вопросы, а на турнирах для школьников — простые)? Если будет интересно: постройте топ сложных и простых вопросов со ссылками на конкретные записи в базе вопросов ЧГК (это чисто техническое дело, тут никакого ML нету)."
   ]
  },
  {
   "cell_type": "markdown",
   "id": "elementary-medium",
   "metadata": {},
   "source": [
    "первый вес нашей модели - это интерсепт"
   ]
  },
  {
   "cell_type": "code",
   "execution_count": null,
   "id": "divine-cologne",
   "metadata": {
    "tags": []
   },
   "outputs": [],
   "source": [
    "## previously calculated\n",
    "# feature_names = ohe.get_feature_names(['player_id', 'question_id'])\n",
    "\n",
    "em_importance = pd.DataFrame({\n",
    "    'feature': feature_names,\n",
    "    'value': em_classifier.w[1:],\n",
    "})\n",
    "question_level = em_importance[\n",
    "    em_importance.feature.str.startswith('question')]\n",
    "\n",
    "_f = lambda s: int(s.split('_')[-1])\n",
    "question_level['question_id'] = question_level.feature.apply(_f)\n",
    "\n",
    "data_question = train_data.groupby(\"question_id\")\\\n",
    "                            .agg({'game_id': 'min'}).reset_index()\n",
    "\n",
    "question_level = pd.merge(question_level, data_question, on='question_id')\n",
    "games_rating = question_level.groupby('game_id')['value'].mean().sort_values()\n",
    "\n",
    "games_rating = pd.merge(\n",
    "    games_rating, data_tours[['id', 'name']], \n",
    "    left_on='game_id', right_on='id'\n",
    ")"
   ]
  },
  {
   "cell_type": "markdown",
   "id": "alternative-channels",
   "metadata": {},
   "source": [
    "### Выведем названия 10 самых трудных турниров и 10 самый легких:"
   ]
  },
  {
   "cell_type": "code",
   "execution_count": 50,
   "id": "greatest-facility",
   "metadata": {},
   "outputs": [
    {
     "data": {
      "text/html": [
       "<div>\n",
       "<style scoped>\n",
       "    .dataframe tbody tr th:only-of-type {\n",
       "        vertical-align: middle;\n",
       "    }\n",
       "\n",
       "    .dataframe tbody tr th {\n",
       "        vertical-align: top;\n",
       "    }\n",
       "\n",
       "    .dataframe thead th {\n",
       "        text-align: right;\n",
       "    }\n",
       "</style>\n",
       "<table border=\"1\" class=\"dataframe\">\n",
       "  <thead>\n",
       "    <tr style=\"text-align: right;\">\n",
       "      <th></th>\n",
       "      <th>value</th>\n",
       "      <th>id</th>\n",
       "      <th>name</th>\n",
       "    </tr>\n",
       "  </thead>\n",
       "  <tbody>\n",
       "    <tr>\n",
       "      <th>0</th>\n",
       "      <td>-4.536236</td>\n",
       "      <td>6149</td>\n",
       "      <td>Чемпионат Санкт-Петербурга. Первая лига</td>\n",
       "    </tr>\n",
       "    <tr>\n",
       "      <th>1</th>\n",
       "      <td>-2.148835</td>\n",
       "      <td>5928</td>\n",
       "      <td>Угрюмый Ёрш</td>\n",
       "    </tr>\n",
       "    <tr>\n",
       "      <th>2</th>\n",
       "      <td>-1.998377</td>\n",
       "      <td>5684</td>\n",
       "      <td>Синхрон высшей лиги Москвы</td>\n",
       "    </tr>\n",
       "    <tr>\n",
       "      <th>3</th>\n",
       "      <td>-1.871278</td>\n",
       "      <td>5159</td>\n",
       "      <td>Первенство правого полушария</td>\n",
       "    </tr>\n",
       "    <tr>\n",
       "      <th>4</th>\n",
       "      <td>-1.774535</td>\n",
       "      <td>6101</td>\n",
       "      <td>Воображаемый музей</td>\n",
       "    </tr>\n",
       "    <tr>\n",
       "      <th>5</th>\n",
       "      <td>-1.701694</td>\n",
       "      <td>5025</td>\n",
       "      <td>Кубок городов</td>\n",
       "    </tr>\n",
       "    <tr>\n",
       "      <th>6</th>\n",
       "      <td>-1.616893</td>\n",
       "      <td>5587</td>\n",
       "      <td>Записки охотника</td>\n",
       "    </tr>\n",
       "    <tr>\n",
       "      <th>7</th>\n",
       "      <td>-1.579695</td>\n",
       "      <td>5946</td>\n",
       "      <td>Чемпионат Мира. Этап 3. Группа В</td>\n",
       "    </tr>\n",
       "    <tr>\n",
       "      <th>8</th>\n",
       "      <td>-1.534003</td>\n",
       "      <td>5083</td>\n",
       "      <td>Ускользающая сова</td>\n",
       "    </tr>\n",
       "    <tr>\n",
       "      <th>9</th>\n",
       "      <td>-1.501268</td>\n",
       "      <td>5465</td>\n",
       "      <td>Чемпионат России</td>\n",
       "    </tr>\n",
       "    <tr>\n",
       "      <th>639</th>\n",
       "      <td>1.830102</td>\n",
       "      <td>5313</td>\n",
       "      <td>(а)Синхрон-lite. Лига старта. Эпизод VI</td>\n",
       "    </tr>\n",
       "    <tr>\n",
       "      <th>640</th>\n",
       "      <td>1.875310</td>\n",
       "      <td>6008</td>\n",
       "      <td>Малый кубок Физтеха</td>\n",
       "    </tr>\n",
       "    <tr>\n",
       "      <th>641</th>\n",
       "      <td>1.947482</td>\n",
       "      <td>5011</td>\n",
       "      <td>(а)Синхрон-lite. Лига старта. Эпизод IV</td>\n",
       "    </tr>\n",
       "    <tr>\n",
       "      <th>642</th>\n",
       "      <td>2.082369</td>\n",
       "      <td>5438</td>\n",
       "      <td>Синхрон Лиги Разума</td>\n",
       "    </tr>\n",
       "    <tr>\n",
       "      <th>643</th>\n",
       "      <td>2.085402</td>\n",
       "      <td>5012</td>\n",
       "      <td>Школьный Синхрон-lite. Выпуск 2.5</td>\n",
       "    </tr>\n",
       "    <tr>\n",
       "      <th>644</th>\n",
       "      <td>2.125924</td>\n",
       "      <td>5698</td>\n",
       "      <td>(а)Синхрон-lite. Лига старта. Эпизод VII</td>\n",
       "    </tr>\n",
       "    <tr>\n",
       "      <th>645</th>\n",
       "      <td>2.130973</td>\n",
       "      <td>5457</td>\n",
       "      <td>Студенческий чемпионат Калининградской области</td>\n",
       "    </tr>\n",
       "    <tr>\n",
       "      <th>646</th>\n",
       "      <td>2.145733</td>\n",
       "      <td>5702</td>\n",
       "      <td>(а)Синхрон-lite. Лига старта. Эпизод IX</td>\n",
       "    </tr>\n",
       "    <tr>\n",
       "      <th>647</th>\n",
       "      <td>2.157572</td>\n",
       "      <td>5009</td>\n",
       "      <td>(а)Синхрон-lite. Лига старта. Эпизод III</td>\n",
       "    </tr>\n",
       "    <tr>\n",
       "      <th>648</th>\n",
       "      <td>2.376855</td>\n",
       "      <td>5013</td>\n",
       "      <td>(а)Синхрон-lite. Лига старта. Эпизод V</td>\n",
       "    </tr>\n",
       "  </tbody>\n",
       "</table>\n",
       "</div>"
      ],
      "text/plain": [
       "        value    id                                            name\n",
       "0   -4.536236  6149         Чемпионат Санкт-Петербурга. Первая лига\n",
       "1   -2.148835  5928                                     Угрюмый Ёрш\n",
       "2   -1.998377  5684                      Синхрон высшей лиги Москвы\n",
       "3   -1.871278  5159                    Первенство правого полушария\n",
       "4   -1.774535  6101                              Воображаемый музей\n",
       "5   -1.701694  5025                                   Кубок городов\n",
       "6   -1.616893  5587                                Записки охотника\n",
       "7   -1.579695  5946                Чемпионат Мира. Этап 3. Группа В\n",
       "8   -1.534003  5083                               Ускользающая сова\n",
       "9   -1.501268  5465                                Чемпионат России\n",
       "639  1.830102  5313         (а)Синхрон-lite. Лига старта. Эпизод VI\n",
       "640  1.875310  6008                             Малый кубок Физтеха\n",
       "641  1.947482  5011         (а)Синхрон-lite. Лига старта. Эпизод IV\n",
       "642  2.082369  5438                             Синхрон Лиги Разума\n",
       "643  2.085402  5012               Школьный Синхрон-lite. Выпуск 2.5\n",
       "644  2.125924  5698        (а)Синхрон-lite. Лига старта. Эпизод VII\n",
       "645  2.130973  5457  Студенческий чемпионат Калининградской области\n",
       "646  2.145733  5702         (а)Синхрон-lite. Лига старта. Эпизод IX\n",
       "647  2.157572  5009        (а)Синхрон-lite. Лига старта. Эпизод III\n",
       "648  2.376855  5013          (а)Синхрон-lite. Лига старта. Эпизод V"
      ]
     },
     "execution_count": 50,
     "metadata": {},
     "output_type": "execute_result"
    }
   ],
   "source": [
    "pd.concat([games_rating.head(10), games_rating.tail(10)])"
   ]
  },
  {
   "cell_type": "markdown",
   "id": "young-endorsement",
   "metadata": {},
   "source": [
    "Первые и высшие лиги посложнее будут, а школьные, стартовые и малые лиги полегче. Результат удовлетворительный!"
   ]
  },
  {
   "cell_type": "code",
   "execution_count": null,
   "id": "proved-tourist",
   "metadata": {},
   "outputs": [],
   "source": []
  }
 ],
 "metadata": {
  "kernelspec": {
   "display_name": "Python 3",
   "language": "python",
   "name": "python3"
  },
  "language_info": {
   "codemirror_mode": {
    "name": "ipython",
    "version": 3
   },
   "file_extension": ".py",
   "mimetype": "text/x-python",
   "name": "python",
   "nbconvert_exporter": "python",
   "pygments_lexer": "ipython3",
   "version": "3.7.5"
  }
 },
 "nbformat": 4,
 "nbformat_minor": 5
}
